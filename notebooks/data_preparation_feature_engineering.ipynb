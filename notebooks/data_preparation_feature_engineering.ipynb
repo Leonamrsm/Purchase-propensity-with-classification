{
 "cells": [
  {
   "cell_type": "markdown",
   "metadata": {},
   "source": [
    "# <span style=\"color:orange;\">1.0.</span> Business Problem"
   ]
  },
  {
   "cell_type": "markdown",
   "metadata": {},
   "source": [
    "## <span style=\"color:orange;\">1.1.</span> Context"
   ]
  },
  {
   "cell_type": "markdown",
   "metadata": {},
   "source": [
    "Our client is an Insurance company that has provided Health Insurance to its customers now they need your help in building a model to predict whether the policyholders (customers) from past year will also be interested in Vehicle Insurance provided by the company.\n",
    "\n",
    "An insurance policy is an arrangement by which a company undertakes to provide a guarantee of compensation for specified loss, damage, illness, or death in return for the payment of a specified premium. A premium is a sum of money that the customer needs to pay regularly to an insurance company for this guarantee.\n",
    "\n",
    "For example, you may pay a premium of Rs. 5000 each year for a health insurance cover of Rs. 200,000/- so that if, God forbid, you fall ill and need to be hospitalised in that year, the insurance provider company will bear the cost of hospitalisation etc. for upto Rs. 200,000. Now if you are wondering how can company bear such high hospitalisation cost when it charges a premium of only Rs. 5000/-, that is where the concept of probabilities comes in picture. For example, like you, there may be 100 customers who would be paying a premium of Rs. 5000 every year, but only a few of them (say 2-3) would get hospitalised that year and not everyone. This way everyone shares the risk of everyone else.\n",
    "\n",
    "Just like medical insurance, there is vehicle insurance where every year customer needs to pay a premium of certain amount to insurance provider company so that in case of unfortunate accident by the vehicle, the insurance provider company will provide a compensation (called ‘sum assured’) to the customer.\n",
    "\n",
    "Building a model to predict whether a customer would be interested in Vehicle Insurance is extremely helpful for the company because it can then accordingly plan its communication strategy to reach out to those customers and optimise its business model and revenue.\n",
    "\n",
    "Now, in order to predict, whether the customer would be interested in Vehicle insurance, you have information about demographics (gender, age, region code type), Vehicles (Vehicle Age, Damage), Policy (Premium, sourcing channel) etc.\n",
    "\n",
    "Problem description on Kaggle: click here to more information.\n",
    "\n",
    "Note: the example has Rs. i.e. Rupee, an Indian money sign. So, the problem potentially is from an indian company."
   ]
  },
  {
   "cell_type": "markdown",
   "metadata": {},
   "source": [
    "## <span style=\"color:orange;\">1.2.</span> Understanding the problem"
   ]
  },
  {
   "cell_type": "markdown",
   "metadata": {},
   "source": [
    "### <span style=\"color:orange;\">1.2.1.</span> Motivation"
   ]
  },
  {
   "cell_type": "markdown",
   "metadata": {},
   "source": [
    "\n",
    "An Insurance company wants to cross sell the health insurance with vehicle insurance."
   ]
  },
  {
   "cell_type": "markdown",
   "metadata": {},
   "source": [
    "### <span style=\"color:orange;\">1.2.2.</span> Root Cause of the problem"
   ]
  },
  {
   "cell_type": "markdown",
   "metadata": {},
   "source": [
    "Ensuring optimal coverage for both health and vehicle-related contingencies poses a unique challenge in cross-selling insurance products. Identifying clients willing to accept vehicle insurance alongside their health coverage while also remaining cognizant of potential health and vehicle-related issues is paramount.\n",
    "\n",
    "The primary objective lies in attracting clients who not only find value in bundling these insurances but also contribute to the profitability of the portfolio."
   ]
  },
  {
   "cell_type": "markdown",
   "metadata": {},
   "source": [
    "### <span style=\"color:orange;\">1.2.3.</span> Solution Format"
   ]
  },
  {
   "cell_type": "markdown",
   "metadata": {},
   "source": [
    "- Granularity and problem type: ID classification of interested or not\n",
    "- Potential solution methods: logistic regression, tree based models, KNN;\n",
    "- Delivery format:\n",
    "    - Client prediction of interest on vehicle insurance;\n",
    "    - Possibility of google sheets to check the clients information and customize the priorization, not just by rank of customer profit."
   ]
  },
  {
   "cell_type": "markdown",
   "metadata": {},
   "source": [
    "# <span style=\"color:orange;\">2.0.</span> Imports"
   ]
  },
  {
   "cell_type": "markdown",
   "metadata": {},
   "source": [
    "## <span style=\"color:orange;\">2.1.</span> Libraries"
   ]
  },
  {
   "cell_type": "code",
   "execution_count": 29,
   "metadata": {},
   "outputs": [],
   "source": [
    "import inflection\n",
    "import seaborn     as sns\n",
    "import pandas      as pd\n",
    "import numpy       as np\n",
    "\n",
    "from matplotlib              import pyplot as plt\n",
    "from matplotlib              import gridspec\n",
    "from IPython.display         import Image\n",
    "from helpers                 import get_first_order_statistics"
   ]
  },
  {
   "cell_type": "markdown",
   "metadata": {},
   "source": [
    "## <span style=\"color:orange;\">2.2.</span> Loading Data"
   ]
  },
  {
   "cell_type": "code",
   "execution_count": 20,
   "metadata": {},
   "outputs": [
    {
     "data": {
      "text/html": [
       "<div>\n",
       "<style scoped>\n",
       "    .dataframe tbody tr th:only-of-type {\n",
       "        vertical-align: middle;\n",
       "    }\n",
       "\n",
       "    .dataframe tbody tr th {\n",
       "        vertical-align: top;\n",
       "    }\n",
       "\n",
       "    .dataframe thead th {\n",
       "        text-align: right;\n",
       "    }\n",
       "</style>\n",
       "<table border=\"1\" class=\"dataframe\">\n",
       "  <thead>\n",
       "    <tr style=\"text-align: right;\">\n",
       "      <th></th>\n",
       "      <th>Gender</th>\n",
       "      <th>Age</th>\n",
       "      <th>Driving_License</th>\n",
       "      <th>Region_Code</th>\n",
       "      <th>Previously_Insured</th>\n",
       "      <th>Vehicle_Age</th>\n",
       "      <th>Vehicle_Damage</th>\n",
       "      <th>Annual_Premium</th>\n",
       "      <th>Policy_Sales_Channel</th>\n",
       "      <th>Vintage</th>\n",
       "      <th>Response</th>\n",
       "    </tr>\n",
       "  </thead>\n",
       "  <tbody>\n",
       "    <tr>\n",
       "      <th>0</th>\n",
       "      <td>Male</td>\n",
       "      <td>44</td>\n",
       "      <td>1</td>\n",
       "      <td>28.0</td>\n",
       "      <td>0</td>\n",
       "      <td>&gt; 2 Years</td>\n",
       "      <td>Yes</td>\n",
       "      <td>40454.0</td>\n",
       "      <td>26.0</td>\n",
       "      <td>217</td>\n",
       "      <td>1</td>\n",
       "    </tr>\n",
       "    <tr>\n",
       "      <th>1</th>\n",
       "      <td>Male</td>\n",
       "      <td>76</td>\n",
       "      <td>1</td>\n",
       "      <td>3.0</td>\n",
       "      <td>0</td>\n",
       "      <td>1-2 Year</td>\n",
       "      <td>No</td>\n",
       "      <td>33536.0</td>\n",
       "      <td>26.0</td>\n",
       "      <td>183</td>\n",
       "      <td>0</td>\n",
       "    </tr>\n",
       "    <tr>\n",
       "      <th>2</th>\n",
       "      <td>Male</td>\n",
       "      <td>47</td>\n",
       "      <td>1</td>\n",
       "      <td>28.0</td>\n",
       "      <td>0</td>\n",
       "      <td>&gt; 2 Years</td>\n",
       "      <td>Yes</td>\n",
       "      <td>38294.0</td>\n",
       "      <td>26.0</td>\n",
       "      <td>27</td>\n",
       "      <td>1</td>\n",
       "    </tr>\n",
       "    <tr>\n",
       "      <th>3</th>\n",
       "      <td>Male</td>\n",
       "      <td>21</td>\n",
       "      <td>1</td>\n",
       "      <td>11.0</td>\n",
       "      <td>1</td>\n",
       "      <td>&lt; 1 Year</td>\n",
       "      <td>No</td>\n",
       "      <td>28619.0</td>\n",
       "      <td>152.0</td>\n",
       "      <td>203</td>\n",
       "      <td>0</td>\n",
       "    </tr>\n",
       "    <tr>\n",
       "      <th>4</th>\n",
       "      <td>Female</td>\n",
       "      <td>29</td>\n",
       "      <td>1</td>\n",
       "      <td>41.0</td>\n",
       "      <td>1</td>\n",
       "      <td>&lt; 1 Year</td>\n",
       "      <td>No</td>\n",
       "      <td>27496.0</td>\n",
       "      <td>152.0</td>\n",
       "      <td>39</td>\n",
       "      <td>0</td>\n",
       "    </tr>\n",
       "  </tbody>\n",
       "</table>\n",
       "</div>"
      ],
      "text/plain": [
       "   Gender  Age  Driving_License  Region_Code  Previously_Insured Vehicle_Age  \\\n",
       "0    Male   44                1         28.0                   0   > 2 Years   \n",
       "1    Male   76                1          3.0                   0    1-2 Year   \n",
       "2    Male   47                1         28.0                   0   > 2 Years   \n",
       "3    Male   21                1         11.0                   1    < 1 Year   \n",
       "4  Female   29                1         41.0                   1    < 1 Year   \n",
       "\n",
       "  Vehicle_Damage  Annual_Premium  Policy_Sales_Channel  Vintage  Response  \n",
       "0            Yes         40454.0                  26.0      217         1  \n",
       "1             No         33536.0                  26.0      183         0  \n",
       "2            Yes         38294.0                  26.0       27         1  \n",
       "3             No         28619.0                 152.0      203         0  \n",
       "4             No         27496.0                 152.0       39         0  "
      ]
     },
     "execution_count": 20,
     "metadata": {},
     "output_type": "execute_result"
    }
   ],
   "source": [
    "df = pd.read_csv(\"../src/data/raw/train.csv\")\n",
    "\n",
    "df = df.drop(['id'], axis=1)\n",
    "df.head()"
   ]
  },
  {
   "cell_type": "markdown",
   "metadata": {},
   "source": [
    "# <span style=\"color:orange;\">3.</span> Data Description"
   ]
  },
  {
   "cell_type": "markdown",
   "metadata": {},
   "source": [
    "| Variable              | Definition                                                                                  |\n",
    "|-----------------------|---------------------------------------------------------------------------------------------|\n",
    "| Gender                | Gender of the customer                                                                      |\n",
    "| Age                   | Age of the customer                                                                         |\n",
    "| Driving_License       | 0 : Customer does not have DL, 1 : Customer already has DL                                  |\n",
    "| Region_Code           | Unique code for the region of the customer                                                  |\n",
    "| Previously_Insured    | 1 : Customer already has Vehicle Insurance, 0 : Customer doesn't have Vehicle Insurance      |\n",
    "| Vehicle_Age           | Age of the Vehicle                                                                          |\n",
    "| Vehicle_Damage        | 1 : Customer got his/her vehicle damaged in the past. 0 : Customer didn't get his/her vehicle damaged in the past. |\n",
    "| Annual_Premium        | The amount customer needs to pay as premium in the year                                      |\n",
    "| Policy_Sales_Channel  | Anonymized Code for the channel of outreaching to the customer ie. Different Agents, Over Mail, Over Phone, In Person, etc. |\n",
    "| Vintage               | Number of Days, Customer has been associated with the company                               |\n",
    "| Response              | 1 : Customer is interested, 0 : Customer is not interested                                  |\n"
   ]
  },
  {
   "cell_type": "markdown",
   "metadata": {},
   "source": [
    "## <span style=\"color:orange;\">3.1.</span> Rename Columns"
   ]
  },
  {
   "cell_type": "code",
   "execution_count": 21,
   "metadata": {},
   "outputs": [
    {
     "data": {
      "text/html": [
       "<div>\n",
       "<style scoped>\n",
       "    .dataframe tbody tr th:only-of-type {\n",
       "        vertical-align: middle;\n",
       "    }\n",
       "\n",
       "    .dataframe tbody tr th {\n",
       "        vertical-align: top;\n",
       "    }\n",
       "\n",
       "    .dataframe thead th {\n",
       "        text-align: right;\n",
       "    }\n",
       "</style>\n",
       "<table border=\"1\" class=\"dataframe\">\n",
       "  <thead>\n",
       "    <tr style=\"text-align: right;\">\n",
       "      <th></th>\n",
       "      <th>0</th>\n",
       "      <th>1</th>\n",
       "      <th>2</th>\n",
       "      <th>3</th>\n",
       "      <th>4</th>\n",
       "    </tr>\n",
       "  </thead>\n",
       "  <tbody>\n",
       "    <tr>\n",
       "      <th>gender</th>\n",
       "      <td>Male</td>\n",
       "      <td>Male</td>\n",
       "      <td>Male</td>\n",
       "      <td>Male</td>\n",
       "      <td>Female</td>\n",
       "    </tr>\n",
       "    <tr>\n",
       "      <th>age</th>\n",
       "      <td>44</td>\n",
       "      <td>76</td>\n",
       "      <td>47</td>\n",
       "      <td>21</td>\n",
       "      <td>29</td>\n",
       "    </tr>\n",
       "    <tr>\n",
       "      <th>driving_license</th>\n",
       "      <td>1</td>\n",
       "      <td>1</td>\n",
       "      <td>1</td>\n",
       "      <td>1</td>\n",
       "      <td>1</td>\n",
       "    </tr>\n",
       "    <tr>\n",
       "      <th>region_code</th>\n",
       "      <td>28</td>\n",
       "      <td>3</td>\n",
       "      <td>28</td>\n",
       "      <td>11</td>\n",
       "      <td>41</td>\n",
       "    </tr>\n",
       "    <tr>\n",
       "      <th>previously_insured</th>\n",
       "      <td>0</td>\n",
       "      <td>0</td>\n",
       "      <td>0</td>\n",
       "      <td>1</td>\n",
       "      <td>1</td>\n",
       "    </tr>\n",
       "    <tr>\n",
       "      <th>vehicle_age</th>\n",
       "      <td>&gt; 2 Years</td>\n",
       "      <td>1-2 Year</td>\n",
       "      <td>&gt; 2 Years</td>\n",
       "      <td>&lt; 1 Year</td>\n",
       "      <td>&lt; 1 Year</td>\n",
       "    </tr>\n",
       "    <tr>\n",
       "      <th>vehicle_damage</th>\n",
       "      <td>Yes</td>\n",
       "      <td>No</td>\n",
       "      <td>Yes</td>\n",
       "      <td>No</td>\n",
       "      <td>No</td>\n",
       "    </tr>\n",
       "    <tr>\n",
       "      <th>annual_premium</th>\n",
       "      <td>40454</td>\n",
       "      <td>33536</td>\n",
       "      <td>38294</td>\n",
       "      <td>28619</td>\n",
       "      <td>27496</td>\n",
       "    </tr>\n",
       "    <tr>\n",
       "      <th>policy_sales_channel</th>\n",
       "      <td>26</td>\n",
       "      <td>26</td>\n",
       "      <td>26</td>\n",
       "      <td>152</td>\n",
       "      <td>152</td>\n",
       "    </tr>\n",
       "    <tr>\n",
       "      <th>vintage</th>\n",
       "      <td>217</td>\n",
       "      <td>183</td>\n",
       "      <td>27</td>\n",
       "      <td>203</td>\n",
       "      <td>39</td>\n",
       "    </tr>\n",
       "    <tr>\n",
       "      <th>response</th>\n",
       "      <td>1</td>\n",
       "      <td>0</td>\n",
       "      <td>1</td>\n",
       "      <td>0</td>\n",
       "      <td>0</td>\n",
       "    </tr>\n",
       "  </tbody>\n",
       "</table>\n",
       "</div>"
      ],
      "text/plain": [
       "                              0         1          2         3         4\n",
       "gender                     Male      Male       Male      Male    Female\n",
       "age                          44        76         47        21        29\n",
       "driving_license               1         1          1         1         1\n",
       "region_code                  28         3         28        11        41\n",
       "previously_insured            0         0          0         1         1\n",
       "vehicle_age           > 2 Years  1-2 Year  > 2 Years  < 1 Year  < 1 Year\n",
       "vehicle_damage              Yes        No        Yes        No        No\n",
       "annual_premium            40454     33536      38294     28619     27496\n",
       "policy_sales_channel         26        26         26       152       152\n",
       "vintage                     217       183         27       203        39\n",
       "response                      1         0          1         0         0"
      ]
     },
     "execution_count": 21,
     "metadata": {},
     "output_type": "execute_result"
    }
   ],
   "source": [
    "# Rename columns do snake_case style\n",
    "df.columns = [inflection.underscore(col) for col in df.columns]\n",
    "df.head().T"
   ]
  },
  {
   "cell_type": "markdown",
   "metadata": {},
   "source": [
    "## <span style=\"color:orange;\">3.2.</span> Data Dimension"
   ]
  },
  {
   "cell_type": "code",
   "execution_count": 22,
   "metadata": {},
   "outputs": [
    {
     "name": "stdout",
     "output_type": "stream",
     "text": [
      "Number of Rows 381109\n",
      "Number of Cols 11\n"
     ]
    }
   ],
   "source": [
    "print('Number of Rows {}'.format(df.shape[0]))\n",
    "print('Number of Cols {}'.format(df.shape[1]))"
   ]
  },
  {
   "cell_type": "markdown",
   "metadata": {},
   "source": [
    "## <span style=\"color:orange;\">3.3.</span> Data Type"
   ]
  },
  {
   "cell_type": "code",
   "execution_count": 23,
   "metadata": {},
   "outputs": [
    {
     "data": {
      "text/plain": [
       "gender                   object\n",
       "age                       int64\n",
       "driving_license           int64\n",
       "region_code             float64\n",
       "previously_insured        int64\n",
       "vehicle_age              object\n",
       "vehicle_damage           object\n",
       "annual_premium          float64\n",
       "policy_sales_channel    float64\n",
       "vintage                   int64\n",
       "response                  int64\n",
       "dtype: object"
      ]
     },
     "execution_count": 23,
     "metadata": {},
     "output_type": "execute_result"
    }
   ],
   "source": [
    "df.dtypes"
   ]
  },
  {
   "cell_type": "markdown",
   "metadata": {},
   "source": [
    "## <span style=\"color:orange;\">3.4.</span> Check NA"
   ]
  },
  {
   "cell_type": "code",
   "execution_count": 24,
   "metadata": {},
   "outputs": [
    {
     "data": {
      "text/plain": [
       "gender                  0\n",
       "age                     0\n",
       "driving_license         0\n",
       "region_code             0\n",
       "previously_insured      0\n",
       "vehicle_age             0\n",
       "vehicle_damage          0\n",
       "annual_premium          0\n",
       "policy_sales_channel    0\n",
       "vintage                 0\n",
       "response                0\n",
       "dtype: int64"
      ]
     },
     "execution_count": 24,
     "metadata": {},
     "output_type": "execute_result"
    }
   ],
   "source": [
    "df.isna().sum()## <span style=\"color:orange;\">3.4.</span> Check NA"
   ]
  },
  {
   "cell_type": "markdown",
   "metadata": {},
   "source": [
    "## <span style=\"color:orange;\">3.5.</span> Descriptive Statistics"
   ]
  },
  {
   "cell_type": "markdown",
   "metadata": {},
   "source": [
    "Before we start, I want to separate the numerical and categorical variables, just because the analysis to these sets are different."
   ]
  },
  {
   "cell_type": "code",
   "execution_count": 25,
   "metadata": {},
   "outputs": [],
   "source": [
    "num_attributes = df.select_dtypes(include=['int64', 'float64'])\n",
    "cat_attributes = df.select_dtypes(exclude=['int64', 'float64', 'datetime64[ns]'])"
   ]
  },
  {
   "cell_type": "markdown",
   "metadata": {},
   "source": [
    "### <span style=\"color:orange;\">3.5.1.</span> Numerical Attributes"
   ]
  },
  {
   "cell_type": "code",
   "execution_count": 26,
   "metadata": {},
   "outputs": [
    {
     "data": {
      "text/html": [
       "<div>\n",
       "<style scoped>\n",
       "    .dataframe tbody tr th:only-of-type {\n",
       "        vertical-align: middle;\n",
       "    }\n",
       "\n",
       "    .dataframe tbody tr th {\n",
       "        vertical-align: top;\n",
       "    }\n",
       "\n",
       "    .dataframe thead th {\n",
       "        text-align: right;\n",
       "    }\n",
       "</style>\n",
       "<table border=\"1\" class=\"dataframe\">\n",
       "  <thead>\n",
       "    <tr style=\"text-align: right;\">\n",
       "      <th></th>\n",
       "      <th>attributes</th>\n",
       "      <th>min</th>\n",
       "      <th>max</th>\n",
       "      <th>range</th>\n",
       "      <th>mean</th>\n",
       "      <th>median</th>\n",
       "      <th>std</th>\n",
       "      <th>skew</th>\n",
       "      <th>kurtosis</th>\n",
       "    </tr>\n",
       "  </thead>\n",
       "  <tbody>\n",
       "    <tr>\n",
       "      <th>0</th>\n",
       "      <td>age</td>\n",
       "      <td>20.0</td>\n",
       "      <td>85.0</td>\n",
       "      <td>65.0</td>\n",
       "      <td>38.822584</td>\n",
       "      <td>36.0</td>\n",
       "      <td>15.511591</td>\n",
       "      <td>0.672539</td>\n",
       "      <td>-0.565655</td>\n",
       "    </tr>\n",
       "    <tr>\n",
       "      <th>1</th>\n",
       "      <td>driving_license</td>\n",
       "      <td>0.0</td>\n",
       "      <td>1.0</td>\n",
       "      <td>1.0</td>\n",
       "      <td>0.997869</td>\n",
       "      <td>1.0</td>\n",
       "      <td>0.046109</td>\n",
       "      <td>-21.595182</td>\n",
       "      <td>464.354302</td>\n",
       "    </tr>\n",
       "    <tr>\n",
       "      <th>2</th>\n",
       "      <td>region_code</td>\n",
       "      <td>0.0</td>\n",
       "      <td>52.0</td>\n",
       "      <td>52.0</td>\n",
       "      <td>26.388807</td>\n",
       "      <td>28.0</td>\n",
       "      <td>13.229871</td>\n",
       "      <td>-0.115266</td>\n",
       "      <td>-0.867857</td>\n",
       "    </tr>\n",
       "    <tr>\n",
       "      <th>3</th>\n",
       "      <td>previously_insured</td>\n",
       "      <td>0.0</td>\n",
       "      <td>1.0</td>\n",
       "      <td>1.0</td>\n",
       "      <td>0.458210</td>\n",
       "      <td>0.0</td>\n",
       "      <td>0.498251</td>\n",
       "      <td>0.167747</td>\n",
       "      <td>-1.971871</td>\n",
       "    </tr>\n",
       "    <tr>\n",
       "      <th>4</th>\n",
       "      <td>annual_premium</td>\n",
       "      <td>2630.0</td>\n",
       "      <td>540165.0</td>\n",
       "      <td>537535.0</td>\n",
       "      <td>30564.389581</td>\n",
       "      <td>31669.0</td>\n",
       "      <td>17213.132474</td>\n",
       "      <td>1.766087</td>\n",
       "      <td>34.004569</td>\n",
       "    </tr>\n",
       "    <tr>\n",
       "      <th>5</th>\n",
       "      <td>policy_sales_channel</td>\n",
       "      <td>1.0</td>\n",
       "      <td>163.0</td>\n",
       "      <td>162.0</td>\n",
       "      <td>112.034295</td>\n",
       "      <td>133.0</td>\n",
       "      <td>54.203924</td>\n",
       "      <td>-0.900008</td>\n",
       "      <td>-0.970810</td>\n",
       "    </tr>\n",
       "    <tr>\n",
       "      <th>6</th>\n",
       "      <td>vintage</td>\n",
       "      <td>10.0</td>\n",
       "      <td>299.0</td>\n",
       "      <td>289.0</td>\n",
       "      <td>154.347397</td>\n",
       "      <td>154.0</td>\n",
       "      <td>83.671194</td>\n",
       "      <td>0.003030</td>\n",
       "      <td>-1.200688</td>\n",
       "    </tr>\n",
       "    <tr>\n",
       "      <th>7</th>\n",
       "      <td>response</td>\n",
       "      <td>0.0</td>\n",
       "      <td>1.0</td>\n",
       "      <td>1.0</td>\n",
       "      <td>0.122563</td>\n",
       "      <td>0.0</td>\n",
       "      <td>0.327935</td>\n",
       "      <td>2.301906</td>\n",
       "      <td>3.298788</td>\n",
       "    </tr>\n",
       "  </tbody>\n",
       "</table>\n",
       "</div>"
      ],
      "text/plain": [
       "             attributes     min       max     range          mean   median  \\\n",
       "0                   age    20.0      85.0      65.0     38.822584     36.0   \n",
       "1       driving_license     0.0       1.0       1.0      0.997869      1.0   \n",
       "2           region_code     0.0      52.0      52.0     26.388807     28.0   \n",
       "3    previously_insured     0.0       1.0       1.0      0.458210      0.0   \n",
       "4        annual_premium  2630.0  540165.0  537535.0  30564.389581  31669.0   \n",
       "5  policy_sales_channel     1.0     163.0     162.0    112.034295    133.0   \n",
       "6               vintage    10.0     299.0     289.0    154.347397    154.0   \n",
       "7              response     0.0       1.0       1.0      0.122563      0.0   \n",
       "\n",
       "            std       skew    kurtosis  \n",
       "0     15.511591   0.672539   -0.565655  \n",
       "1      0.046109 -21.595182  464.354302  \n",
       "2     13.229871  -0.115266   -0.867857  \n",
       "3      0.498251   0.167747   -1.971871  \n",
       "4  17213.132474   1.766087   34.004569  \n",
       "5     54.203924  -0.900008   -0.970810  \n",
       "6     83.671194   0.003030   -1.200688  \n",
       "7      0.327935   2.301906    3.298788  "
      ]
     },
     "execution_count": 26,
     "metadata": {},
     "output_type": "execute_result"
    }
   ],
   "source": [
    "get_first_order_statistics(num_attributes)"
   ]
  },
  {
   "cell_type": "markdown",
   "metadata": {},
   "source": [
    "1. Large difference in scales between attributes:\n",
    "\n",
    "    - There is a vast difference in the range in some features. Higher ranging numbers have superiority of some sort. So these more significant number starts playing a more decisive role while training some models. It's needed to apply some sort of scaling over the features.\n",
    "\n",
    "2. Skewness and kurtosis:\n",
    "\n",
    "    - Some variables, such as `driving_license`, have **extreme skewness** (skew of -21.6) and very high **kurtosis** (464.35). This indicates a very high concentration on one value (almost all records have `driving_license` equal to 1), having **almost no variability**, which may not add much information to the model, since almost all values ​​are the same.\n",
    "\n",
    "    - The skewness and kurtosis are also relevant for the `annual_premium` variable, with high positive skewness (1.77) and kurtosis (34.0), suggesting that there are **extreme outliers** in the annual premiums.\n",
    "\n",
    "3. Balanced/unbalanced distribution:\n",
    "\n",
    "    - The response variable has a mean of 0.122, suggesting that only about 12% of customers are interested in the product, meaning that the data is imbalanced. This type of imbalance can negatively impact classification models and requires techniques such as undersampling, oversampling, or the use of adjusted metrics.\n",
    "\n",
    "\n",
    "Recommendations:\n",
    "\n",
    "- **Scaling** is essential due to the large difference between the variable ranges.\n",
    "\n",
    "- Handling **outliers** can be important, especially for `annual_premium`.\n",
    "\n",
    "- **Imbalanced data handling** techniques are recommended for the `response` variable.\n",
    "\n",
    "- Variables with **low variability**, such as `driving_license`, may be irrelevant to the model and could be considered for be removed or other form of feature engineering.\n"
   ]
  },
  {
   "cell_type": "markdown",
   "metadata": {},
   "source": [
    "### <span style=\"color:orange;\">3.5.2.</span> Categorical Attributes"
   ]
  },
  {
   "cell_type": "code",
   "execution_count": 27,
   "metadata": {},
   "outputs": [
    {
     "data": {
      "text/plain": [
       "gender            2\n",
       "vehicle_age       3\n",
       "vehicle_damage    2\n",
       "dtype: int64"
      ]
     },
     "execution_count": 27,
     "metadata": {},
     "output_type": "execute_result"
    }
   ],
   "source": [
    "# How many levels there is  in each categorical attribute\n",
    "cat_attributes.nunique()"
   ]
  },
  {
   "cell_type": "code",
   "execution_count": 12,
   "metadata": {},
   "outputs": [
    {
     "data": {
      "text/html": [
       "<div>\n",
       "<style scoped>\n",
       "    .dataframe tbody tr th:only-of-type {\n",
       "        vertical-align: middle;\n",
       "    }\n",
       "\n",
       "    .dataframe tbody tr th {\n",
       "        vertical-align: top;\n",
       "    }\n",
       "\n",
       "    .dataframe thead th {\n",
       "        text-align: right;\n",
       "    }\n",
       "</style>\n",
       "<table border=\"1\" class=\"dataframe\">\n",
       "  <thead>\n",
       "    <tr style=\"text-align: right;\">\n",
       "      <th>response</th>\n",
       "      <th>0</th>\n",
       "      <th>1</th>\n",
       "    </tr>\n",
       "    <tr>\n",
       "      <th>gender</th>\n",
       "      <th></th>\n",
       "      <th></th>\n",
       "    </tr>\n",
       "  </thead>\n",
       "  <tbody>\n",
       "    <tr>\n",
       "      <th>Female</th>\n",
       "      <td>156835</td>\n",
       "      <td>18185</td>\n",
       "    </tr>\n",
       "    <tr>\n",
       "      <th>Male</th>\n",
       "      <td>177564</td>\n",
       "      <td>28525</td>\n",
       "    </tr>\n",
       "  </tbody>\n",
       "</table>\n",
       "</div>"
      ],
      "text/plain": [
       "response       0      1\n",
       "gender                 \n",
       "Female    156835  18185\n",
       "Male      177564  28525"
      ]
     },
     "metadata": {},
     "output_type": "display_data"
    },
    {
     "name": "stdout",
     "output_type": "stream",
     "text": [
      "\n",
      "\n"
     ]
    },
    {
     "data": {
      "text/html": [
       "<div>\n",
       "<style scoped>\n",
       "    .dataframe tbody tr th:only-of-type {\n",
       "        vertical-align: middle;\n",
       "    }\n",
       "\n",
       "    .dataframe tbody tr th {\n",
       "        vertical-align: top;\n",
       "    }\n",
       "\n",
       "    .dataframe thead th {\n",
       "        text-align: right;\n",
       "    }\n",
       "</style>\n",
       "<table border=\"1\" class=\"dataframe\">\n",
       "  <thead>\n",
       "    <tr style=\"text-align: right;\">\n",
       "      <th>response</th>\n",
       "      <th>0</th>\n",
       "      <th>1</th>\n",
       "    </tr>\n",
       "    <tr>\n",
       "      <th>vehicle_age</th>\n",
       "      <th></th>\n",
       "      <th></th>\n",
       "    </tr>\n",
       "  </thead>\n",
       "  <tbody>\n",
       "    <tr>\n",
       "      <th>1-2 Year</th>\n",
       "      <td>165510</td>\n",
       "      <td>34806</td>\n",
       "    </tr>\n",
       "    <tr>\n",
       "      <th>&lt; 1 Year</th>\n",
       "      <td>157584</td>\n",
       "      <td>7202</td>\n",
       "    </tr>\n",
       "    <tr>\n",
       "      <th>&gt; 2 Years</th>\n",
       "      <td>11305</td>\n",
       "      <td>4702</td>\n",
       "    </tr>\n",
       "  </tbody>\n",
       "</table>\n",
       "</div>"
      ],
      "text/plain": [
       "response          0      1\n",
       "vehicle_age               \n",
       "1-2 Year     165510  34806\n",
       "< 1 Year     157584   7202\n",
       "> 2 Years     11305   4702"
      ]
     },
     "metadata": {},
     "output_type": "display_data"
    },
    {
     "name": "stdout",
     "output_type": "stream",
     "text": [
      "\n",
      "\n"
     ]
    },
    {
     "data": {
      "text/html": [
       "<div>\n",
       "<style scoped>\n",
       "    .dataframe tbody tr th:only-of-type {\n",
       "        vertical-align: middle;\n",
       "    }\n",
       "\n",
       "    .dataframe tbody tr th {\n",
       "        vertical-align: top;\n",
       "    }\n",
       "\n",
       "    .dataframe thead th {\n",
       "        text-align: right;\n",
       "    }\n",
       "</style>\n",
       "<table border=\"1\" class=\"dataframe\">\n",
       "  <thead>\n",
       "    <tr style=\"text-align: right;\">\n",
       "      <th>response</th>\n",
       "      <th>0</th>\n",
       "      <th>1</th>\n",
       "    </tr>\n",
       "    <tr>\n",
       "      <th>vehicle_damage</th>\n",
       "      <th></th>\n",
       "      <th></th>\n",
       "    </tr>\n",
       "  </thead>\n",
       "  <tbody>\n",
       "    <tr>\n",
       "      <th>No</th>\n",
       "      <td>187714</td>\n",
       "      <td>982</td>\n",
       "    </tr>\n",
       "    <tr>\n",
       "      <th>Yes</th>\n",
       "      <td>146685</td>\n",
       "      <td>45728</td>\n",
       "    </tr>\n",
       "  </tbody>\n",
       "</table>\n",
       "</div>"
      ],
      "text/plain": [
       "response             0      1\n",
       "vehicle_damage               \n",
       "No              187714    982\n",
       "Yes             146685  45728"
      ]
     },
     "metadata": {},
     "output_type": "display_data"
    },
    {
     "name": "stdout",
     "output_type": "stream",
     "text": [
      "\n",
      "\n"
     ]
    }
   ],
   "source": [
    "for col in cat_attributes.columns:\n",
    "    tabela_contingencia = pd.crosstab(df[col], df['response'])\n",
    "    display(tabela_contingencia)\n",
    "    print(\"\\n\")"
   ]
  },
  {
   "cell_type": "code",
   "execution_count": 44,
   "metadata": {},
   "outputs": [
    {
     "data": {
      "image/png": "[encoded data removed]",
      "text/plain": [
       "<Figure size 1500x600 with 3 Axes>"
      ]
     },
     "metadata": {},
     "output_type": "display_data"
    }
   ],
   "source": [
    "fig = plt.figure(figsize=(15,6))\n",
    "specs = gridspec.GridSpec(ncols=3, nrows=1, figure = fig)\n",
    "\n",
    "ax1 = fig.add_subplot(specs[0,0])\n",
    "ax2 = fig.add_subplot(specs[0,1])\n",
    "ax3 = fig.add_subplot(specs[0,2])\n",
    "\n",
    "sns.countplot(x='gender', hue='response', data=df2, ax=ax1);\n",
    "\n",
    "sns.countplot(x='vehicle_age', hue='response', data=df2, ax=ax2);\n",
    "\n",
    "sns.countplot(x='vehicle_damage', hue='response', data=df2, ax=ax3);"
   ]
  },
  {
   "cell_type": "markdown",
   "metadata": {},
   "source": [
    "# <span style=\"color:orange;\">4.</span> Feature Engineering"
   ]
  },
  {
   "cell_type": "markdown",
   "metadata": {},
   "source": [
    "## <span style=\"color:orange;\">4.1</span> Mind Map Hypothesis"
   ]
  },
  {
   "cell_type": "code",
   "execution_count": 31,
   "metadata": {},
   "outputs": [
    {
     "data": {
      "image/png": "[encoded data removed]",
      "text/plain": [
       "<IPython.core.display.Image object>"
      ]
     },
     "execution_count": 31,
     "metadata": {},
     "output_type": "execute_result"
    }
   ],
   "source": [
    "\n",
    "# Business mindmap\n",
    "Image('../src/visualization/mind_map_hypothesis.png')"
   ]
  },
  {
   "cell_type": "markdown",
   "metadata": {},
   "source": [
    "## <span style=\"color:orange;\">4.2.</span> Mind Map Hypothesis"
   ]
  },
  {
   "cell_type": "markdown",
   "metadata": {},
   "source": [
    "### <span style=\"color:orange;\">4.2.1.</span> Health insurance hypothesis"
   ]
  },
  {
   "cell_type": "markdown",
   "metadata": {},
   "source": [
    "1. Different policy sales channel of health insurance doesn't change the vehicle insurance interest\n",
    "\n",
    "2. The higher vintage on health insurance, the greater the interest in vehicle insurance\n",
    "\n",
    "3. The more benefits included on health insurance, the greater the interest on vehicle insurance\n",
    "\n",
    "4. The more diversity of health insurance plans, the greater the interest on vehicle insurance\n",
    "\n",
    "5. High service quality of health insurance is essencial to make a conversion on vehicle insurance\n",
    "\n",
    "6. The more hospitals included in health insurance, the greater the interest on vehicle insurance\n",
    "\n",
    "7. The higher annual premium price on health insurance, the lower the interest on vehicle insurance"
   ]
  },
  {
   "cell_type": "markdown",
   "metadata": {},
   "source": [
    "### <span style=\"color:orange;\">4.2.2.</span> Client hypothesis"
   ]
  },
  {
   "cell_type": "markdown",
   "metadata": {},
   "source": [
    "1. Older customers have less interest on vehicle insurance\n",
    "\n",
    "2. There isn't a difference between genders when comparing the vehicle insurance interest\n",
    "\n",
    "3. People who have a driver's license are more likely to purchase car insurance.\n",
    "\n",
    "4. There is a difference in interest in car insurance depending on the region where the person lives.\n",
    "\n",
    "5. Customers who already have vehicle insurance are less interested in purchasing new vehicle insurance.\n",
    "\n",
    "6. Married customers have more interest on vehicle insurance\n",
    "\n",
    "7. The higher income of customers, the greater the interest on vehicle insurance\n",
    "\n",
    "8. The greater the family size of customer, the greater the interest in vehicle insurance\n",
    "\n",
    "9. Bad medical history makes more interest on vehicle insurance"
   ]
  },
  {
   "cell_type": "markdown",
   "metadata": {},
   "source": [
    "### <span style=\"color:orange;\">4.2.1.</span> Vehicle hypothesis"
   ]
  },
  {
   "cell_type": "markdown",
   "metadata": {},
   "source": [
    "1. Customers with older vehicle have less interest on vehicle insurance\n",
    "\n",
    "2. If the vehicle has been damaged, then the vehicle insurance interest is greater\n",
    "\n",
    "3. If the vehicle is automatic, then the vehicle insurance interest is greater\n",
    "\n",
    "4. f the vehicle is economic, then the vehicle insurance interest is smaller\n",
    "\n",
    "5. The higher nominal size, the greater the interest on vehicle insurance"
   ]
  },
  {
   "cell_type": "markdown",
   "metadata": {},
   "source": [
    "## <span style=\"color:orange;\">4.3.</span> Final hypothesis list"
   ]
  },
  {
   "cell_type": "markdown",
   "metadata": {},
   "source": [
    "The criterion used here is if we have the data to answer the hypothesis. On the other hand, if we don't have them, we could ask for another sector of the company to get the new data.\n",
    "\n",
    "Basically, we analyse the data that we have now."
   ]
  },
  {
   "cell_type": "markdown",
   "metadata": {},
   "source": [
    "1. Different policy sales channel of health insurance doesn't change the vehicle insurance interest\n",
    "\n",
    "2. The higher vintage on health insurance, the greater the interest in vehicle insurance\n",
    "\n",
    "3. The higher annual premium price on health insurance, the lower the interest on vehicle insurance\n",
    "\n",
    "4. Older customers have less interest on vehicle insurance\n",
    "\n",
    "5. There isn't a difference between genders when comparing the vehicle insurance interest\n",
    "\n",
    "6. People who have a driver's license are more likely to purchase car insurance.\n",
    "\n",
    "7. There is a difference in interest in car insurance depending on the region where the person lives.\n",
    "\n",
    "8. Customers who already have vehicle insurance are less interested in purchasing new vehicle insurance.\n",
    "\n",
    "9. Customers with older vehicle have less interest on vehicle insurance\n",
    "\n",
    "10. If the vehicle has been damaged, then the vehicle insurance interest is greater"
   ]
  },
  {
   "cell_type": "markdown",
   "metadata": {},
   "source": [
    "## <span style=\"color:orange;\">4.4.</span> Feature Engineering"
   ]
  },
  {
   "cell_type": "code",
   "execution_count": 33,
   "metadata": {},
   "outputs": [],
   "source": [
    "# vehicle_age\n",
    "df['vehicle_age'] = df['vehicle_age'].apply(lambda x: 'over_2_years' if x == '> 2 Years' \n",
    "                                            else 'between_1_2_year' if x == '1-2 Year'\n",
    "                                            else 'below_1_year')\n",
    "\n",
    "# vehicle_damage\n",
    "df['vehicle_damage'] = df['vehicle_damage'].apply(lambda x: 1 if x == 'Yes' else 0)\n",
    "\n",
    "# gender\n",
    "df['gender'] = df['gender'].apply(lambda x: 'male' if x == 'Male' else 'female')"
   ]
  },
  {
   "cell_type": "code",
   "execution_count": 34,
   "metadata": {},
   "outputs": [],
   "source": [
    "# Saving the data for EDA section\n",
    "df.to_csv('../src/data/interim/train_processed_01.csv', index=False)"
   ]
  }
 ],
 "metadata": {
  "kernelspec": {
   "display_name": "DSProducao",
   "language": "python",
   "name": "python3"
  },
  "language_info": {
   "codemirror_mode": {
    "name": "ipython",
    "version": 3
   },
   "file_extension": ".py",
   "mimetype": "text/x-python",
   "name": "python",
   "nbconvert_exporter": "python",
   "pygments_lexer": "ipython3",
   "version": "3.8.19"
  }
 },
 "nbformat": 4,
 "nbformat_minor": 2
}
