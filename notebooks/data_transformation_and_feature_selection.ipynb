{
 "cells": [
  {
   "cell_type": "markdown",
   "metadata": {},
   "source": [
    "# <span style=\"color:orange;\">1.</span> Imports"
   ]
  },
  {
   "cell_type": "markdown",
   "metadata": {},
   "source": [
    "## <span style=\"color:orange;\">1.1.</span>  Libraries\n"
   ]
  },
  {
   "cell_type": "code",
   "execution_count": 28,
   "metadata": {},
   "outputs": [],
   "source": [
    "import pandas as pd\n",
    "import numpy as np\n",
    "import pickle\n",
    "from sklearn.model_selection import train_test_split\n",
    "from sklearn.preprocessing import RobustScaler, MinMaxScaler\n",
    "from sklearn import ensemble as en\n",
    "from matplotlib import pyplot as plt\n"
   ]
  },
  {
   "cell_type": "markdown",
   "metadata": {},
   "source": [
    "## <span style=\"color:orange;\">1.2.</span>  Loas Data\n"
   ]
  },
  {
   "cell_type": "code",
   "execution_count": 2,
   "metadata": {},
   "outputs": [],
   "source": [
    "df = pd.read_csv('../src/data/interim/train_processed_01.csv')"
   ]
  },
  {
   "cell_type": "markdown",
   "metadata": {},
   "source": [
    "# <span style=\"color:orange;\">2.</span>  Split Into Training and Test Set"
   ]
  },
  {
   "cell_type": "code",
   "execution_count": 8,
   "metadata": {},
   "outputs": [],
   "source": [
    "X_train, X_test, y_train, y_test = train_test_split(df.loc[:, df.columns != 'response'], df['response'], test_size=0.2, random_state=32)"
   ]
  },
  {
   "cell_type": "markdown",
   "metadata": {},
   "source": [
    "# <span style=\"color:orange;\">3.</span> Data Preparation"
   ]
  },
  {
   "cell_type": "markdown",
   "metadata": {},
   "source": [
    "## <span style=\"color:orange;\">3.1.</span> Rescaling"
   ]
  },
  {
   "cell_type": "code",
   "execution_count": 9,
   "metadata": {},
   "outputs": [],
   "source": [
    "rs = RobustScaler()\n",
    "mms = MinMaxScaler()\n",
    "\n",
    "# age - MinMaxScaler\n",
    "X_train.loc[:, 'age'] = mms.fit_transform(X_train[['age']])\n",
    "X_test.loc[:, 'age'] = mms.transform(X_test[['age']])\n",
    "pickle.dump(mms, open('../src/parameters/age_scaler.pkl', 'wb'))\n",
    "\n",
    "# annual_premium - RobustScaler\n",
    "X_train.loc[:, 'annual_premium'] = rs.fit_transform(X_train[['annual_premium']])\n",
    "X_test.loc[:, 'annual_premium'] = rs.transform(X_test[['annual_premium']])\n",
    "pickle.dump(rs, open('../src/parameters/annual_premium_scaler.pkl', 'wb'))\n",
    "\n",
    "# vintage - MinMaxScaler\n",
    "X_train.loc[:, 'vintage'] = mms.fit_transform(X_train[['vintage']])\n",
    "X_test.loc[:, 'vintage'] = mms.transform(X_test[['vintage']])\n",
    "pickle.dump(mms, open('../src/parameters/vintage_scaler.pkl', 'wb'))\n",
    "\n",
    "# hi_customer_profitability - RobustScaler\n",
    "X_train.loc[:, 'hi_customer_profitability'] = rs.fit_transform(X_train[['hi_customer_profitability']])\n",
    "X_test.loc[:, 'hi_customer_profitability'] = rs.transform(X_test[['hi_customer_profitability']])\n",
    "pickle.dump(rs, open('../src/parameters/hi_customer_profitability_scaler.pkl', 'wb'))"
   ]
  },
  {
   "cell_type": "markdown",
   "metadata": {},
   "source": [
    "## <span style=\"color:orange;\">3.2.</span> Encoding"
   ]
  },
  {
   "cell_type": "code",
   "execution_count": 10,
   "metadata": {},
   "outputs": [],
   "source": [
    "# gender - One Hot Encoding\n",
    "X_train['gender'] = X_train['gender'].map({'male': 1, 'female': 0})\n",
    "X_test['gender'] = X_test['gender'].map({'male': 1, 'female': 0})\n",
    "\n",
    "# region_code - Target Encoding\n",
    "target_encode_region_code = pd.concat([X_train, y_train], axis=1).groupby('region_code')['response'].mean()\n",
    "X_train['region_code'] = X_train['region_code'].map(target_encode_region_code)\n",
    "X_test['region_code'] = X_test['region_code'].map(target_encode_region_code)\n",
    "pickle.dump(target_encode_region_code, open('../src/parameters/region_code_scaler.pkl', 'wb'))\n",
    "\n",
    "# vehicle_age - One Hot Encoding\n",
    "X_train = pd.get_dummies(X_train, columns=['vehicle_age'], prefix='vehicle_age')\n",
    "X_test = pd.get_dummies(X_test, columns=['vehicle_age'], prefix='vehicle_age')\n",
    "\n",
    "# policy_sales_channel - Frequency Encoding\n",
    "frequency_encode_sales_channel = X_train['policy_sales_channel'].value_counts(normalize=True)\n",
    "X_train['policy_sales_channel'] = X_train['policy_sales_channel'].map(frequency_encode_sales_channel)\n",
    "X_test['policy_sales_channel'] = X_test['policy_sales_channel'].map(frequency_encode_sales_channel)\n",
    "pickle.dump(frequency_encode_sales_channel, open('../src/parameters/policy_sales_channel_scaler.pkl', 'wb'))\n",
    "\n",
    "# age_binned - Frequency Encoding\n",
    "frequency_encode_age_binned = X_train['age_binned'].value_counts(normalize=True)\n",
    "X_train['age_binned'] = X_train['age_binned'].map(frequency_encode_age_binned)\n",
    "X_test['age_binned'] = X_test['age_binned'].map(frequency_encode_age_binned)\n",
    "pickle.dump(frequency_encode_age_binned, open('../src/parameters/age_binned_scaler.pkl', 'wb'))"
   ]
  },
  {
   "cell_type": "markdown",
   "metadata": {},
   "source": [
    "# <span style=\"color:orange;\">4.</span> Feature Selection"
   ]
  },
  {
   "cell_type": "markdown",
   "metadata": {},
   "source": [
    "## <span style=\"color:orange;\">4.</span> Feature Importance"
   ]
  },
  {
   "cell_type": "code",
   "execution_count": 21,
   "metadata": {},
   "outputs": [
    {
     "data": {
      "text/plain": [
       "ExtraTreesClassifier(n_estimators=250, n_jobs=-1, random_state=32)"
      ]
     },
     "execution_count": 21,
     "metadata": {},
     "output_type": "execute_result"
    }
   ],
   "source": [
    "# using ExtraTreesClassifier\n",
    "model = en.ExtraTreesClassifier(n_estimators=250, random_state=32, n_jobs=-1)\n",
    "\n",
    "# fit model\n",
    "model.fit(X_train, y_train)"
   ]
  },
  {
   "cell_type": "code",
   "execution_count": 32,
   "metadata": {},
   "outputs": [
    {
     "data": {
      "text/html": [
       "<div>\n",
       "<style scoped>\n",
       "    .dataframe tbody tr th:only-of-type {\n",
       "        vertical-align: middle;\n",
       "    }\n",
       "\n",
       "    .dataframe tbody tr th {\n",
       "        vertical-align: top;\n",
       "    }\n",
       "\n",
       "    .dataframe thead th {\n",
       "        text-align: right;\n",
       "    }\n",
       "</style>\n",
       "<table border=\"1\" class=\"dataframe\">\n",
       "  <thead>\n",
       "    <tr style=\"text-align: right;\">\n",
       "      <th></th>\n",
       "      <th>feature</th>\n",
       "      <th>importance</th>\n",
       "    </tr>\n",
       "  </thead>\n",
       "  <tbody>\n",
       "    <tr>\n",
       "      <th>0</th>\n",
       "      <td>hi_customer_profitability</td>\n",
       "      <td>0.203147</td>\n",
       "    </tr>\n",
       "    <tr>\n",
       "      <th>1</th>\n",
       "      <td>vintage</td>\n",
       "      <td>0.194944</td>\n",
       "    </tr>\n",
       "    <tr>\n",
       "      <th>2</th>\n",
       "      <td>annual_premium</td>\n",
       "      <td>0.167985</td>\n",
       "    </tr>\n",
       "    <tr>\n",
       "      <th>3</th>\n",
       "      <td>age</td>\n",
       "      <td>0.104374</td>\n",
       "    </tr>\n",
       "    <tr>\n",
       "      <th>4</th>\n",
       "      <td>region_code</td>\n",
       "      <td>0.099139</td>\n",
       "    </tr>\n",
       "    <tr>\n",
       "      <th>5</th>\n",
       "      <td>vehicle_damage</td>\n",
       "      <td>0.065846</td>\n",
       "    </tr>\n",
       "    <tr>\n",
       "      <th>6</th>\n",
       "      <td>policy_sales_channel</td>\n",
       "      <td>0.062051</td>\n",
       "    </tr>\n",
       "    <tr>\n",
       "      <th>7</th>\n",
       "      <td>previously_insured</td>\n",
       "      <td>0.057547</td>\n",
       "    </tr>\n",
       "    <tr>\n",
       "      <th>8</th>\n",
       "      <td>age_binned</td>\n",
       "      <td>0.015496</td>\n",
       "    </tr>\n",
       "    <tr>\n",
       "      <th>9</th>\n",
       "      <td>vehicle_age_below_1_year</td>\n",
       "      <td>0.011694</td>\n",
       "    </tr>\n",
       "    <tr>\n",
       "      <th>10</th>\n",
       "      <td>vehicle_age_between_1_2_year</td>\n",
       "      <td>0.007556</td>\n",
       "    </tr>\n",
       "    <tr>\n",
       "      <th>11</th>\n",
       "      <td>gender</td>\n",
       "      <td>0.006825</td>\n",
       "    </tr>\n",
       "    <tr>\n",
       "      <th>12</th>\n",
       "      <td>vehicle_age_over_2_years</td>\n",
       "      <td>0.002933</td>\n",
       "    </tr>\n",
       "    <tr>\n",
       "      <th>13</th>\n",
       "      <td>driving_license</td>\n",
       "      <td>0.000463</td>\n",
       "    </tr>\n",
       "  </tbody>\n",
       "</table>\n",
       "</div>"
      ],
      "text/plain": [
       "                         feature  importance\n",
       "0      hi_customer_profitability    0.203147\n",
       "1                        vintage    0.194944\n",
       "2                 annual_premium    0.167985\n",
       "3                            age    0.104374\n",
       "4                    region_code    0.099139\n",
       "5                 vehicle_damage    0.065846\n",
       "6           policy_sales_channel    0.062051\n",
       "7             previously_insured    0.057547\n",
       "8                     age_binned    0.015496\n",
       "9       vehicle_age_below_1_year    0.011694\n",
       "10  vehicle_age_between_1_2_year    0.007556\n",
       "11                        gender    0.006825\n",
       "12      vehicle_age_over_2_years    0.002933\n",
       "13               driving_license    0.000463"
      ]
     },
     "metadata": {},
     "output_type": "display_data"
    },
    {
     "data": {
      "image/png": "[encoded data removed]",
      "text/plain": [
       "<Figure size 1000x800 with 1 Axes>"
      ]
     },
     "metadata": {},
     "output_type": "display_data"
    }
   ],
   "source": [
    "# show feature importances\n",
    "feat_importances = pd.Series(model.feature_importances_, index=X_train.columns)\n",
    "std = np.std([tree.feature_importances_ for tree in model.estimators_], axis=0)\n",
    "indices = np.argsort(feat_importances)[::-1]\n",
    "\n",
    "# Creating a DataFrame with feature importances\n",
    "df = pd.DataFrame({\n",
    "    'feature': X_train.columns[indices],\n",
    "    'importance': feat_importances[indices]\n",
    "}).reset_index(drop=True)\n",
    "\n",
    "display(df)\n",
    "\n",
    "# plot the feature importance with std wit horizontal bar plot\n",
    "plt.figure(figsize=(10, 8))\n",
    "plt.barh( X_train.columns[indices], feat_importances[indices], xerr= std[indices], align='center', color='skyblue')\n",
    "plt.xlabel('Importance')\n",
    "plt.ylabel('Feature')\n",
    "plt.title('Feature Importances with Standard Deviation')\n",
    "plt.gca().invert_yaxis()  \n",
    "\n"
   ]
  },
  {
   "cell_type": "code",
   "execution_count": 34,
   "metadata": {},
   "outputs": [],
   "source": [
    "col_selected =['hi_customer_profitability', 'vintage', 'annual_premium', 'age', 'region_code', 'vehicle_damage', 'policy_sales_channel']\n",
    "\n",
    "X_train = X_train[col_selected]\n",
    "X_test = X_test[col_selected]"
   ]
  },
  {
   "cell_type": "code",
   "execution_count": 36,
   "metadata": {},
   "outputs": [],
   "source": [
    "# save the new dataframes\n",
    "X_train.to_csv('../src/data/interim/X_train_col_selected.csv', index=False)\n",
    "X_test.to_csv('../src/data/interim/X_test_col_selected.csv', index=False)"
   ]
  }
 ],
 "metadata": {
  "kernelspec": {
   "display_name": "DSProducao",
   "language": "python",
   "name": "python3"
  },
  "language_info": {
   "codemirror_mode": {
    "name": "ipython",
    "version": 3
   },
   "file_extension": ".py",
   "mimetype": "text/x-python",
   "name": "python",
   "nbconvert_exporter": "python",
   "pygments_lexer": "ipython3",
   "version": "3.8.19"
  }
 },
 "nbformat": 4,
 "nbformat_minor": 2
}
