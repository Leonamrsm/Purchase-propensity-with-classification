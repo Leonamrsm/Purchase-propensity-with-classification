{
 "cells": [
  {
   "cell_type": "markdown",
   "metadata": {},
   "source": [
    "# <span style=\"color:orange;\">1.</span> Imports"
   ]
  },
  {
   "cell_type": "markdown",
   "metadata": {},
   "source": [
    "## <span style=\"color:orange;\">1.1.</span>  Libraries\n"
   ]
  },
  {
   "cell_type": "code",
   "execution_count": 58,
   "metadata": {},
   "outputs": [],
   "source": [
    "import pandas as pd\n",
    "import pickle\n",
    "from sklearn.model_selection import train_test_split\n",
    "from sklearn.preprocessing import RobustScaler, MinMaxScaler"
   ]
  },
  {
   "cell_type": "markdown",
   "metadata": {},
   "source": [
    "## <span style=\"color:orange;\">1.2.</span>  Loas Data\n"
   ]
  },
  {
   "cell_type": "code",
   "execution_count": 59,
   "metadata": {},
   "outputs": [],
   "source": [
    "df = pd.read_csv('../src/data/interim/train_processed_01.csv')"
   ]
  },
  {
   "cell_type": "markdown",
   "metadata": {},
   "source": [
    "# <span style=\"color:orange;\">5.</span>  Split Into Training and Test Set"
   ]
  },
  {
   "cell_type": "code",
   "execution_count": 60,
   "metadata": {},
   "outputs": [],
   "source": [
    "X_train, X_test, y_train, y_test = train_test_split(df.loc[:, df.columns != 'response'], df['response'], test_size=0.2, random_state=32)"
   ]
  },
  {
   "cell_type": "markdown",
   "metadata": {},
   "source": [
    "# Train Test Split\n"
   ]
  },
  {
   "cell_type": "code",
   "execution_count": 61,
   "metadata": {},
   "outputs": [
    {
     "data": {
      "text/plain": [
       "gender                        object\n",
       "age                            int64\n",
       "driving_license                int64\n",
       "region_code                  float64\n",
       "previously_insured             int64\n",
       "vehicle_age                   object\n",
       "vehicle_damage                 int64\n",
       "annual_premium               float64\n",
       "policy_sales_channel         float64\n",
       "vintage                        int64\n",
       "hi_customer_profitability    float64\n",
       "age_binned                    object\n",
       "dtype: object"
      ]
     },
     "execution_count": 61,
     "metadata": {},
     "output_type": "execute_result"
    }
   ],
   "source": [
    "X_train.dtypes"
   ]
  },
  {
   "cell_type": "markdown",
   "metadata": {},
   "source": [
    "# <span style=\"color:orange;\">3.</span> Data Preparation"
   ]
  },
  {
   "cell_type": "markdown",
   "metadata": {},
   "source": [
    "## <span style=\"color:orange;\">3.1.</span> Rescaling"
   ]
  },
  {
   "cell_type": "code",
   "execution_count": 62,
   "metadata": {},
   "outputs": [],
   "source": [
    "rs = RobustScaler()\n",
    "mms = MinMaxScaler()\n",
    "\n",
    "# age - MinMaxScaler\n",
    "X_train.loc[:, 'age_scaled'] = mms.fit_transform(X_train[['age']])\n",
    "X_test.loc[:, 'age_scaled'] = mms.transform(X_test[['age']])\n",
    "pickle.dump(mms, open('../src/parameters/age_scaler.pkl', 'wb'))\n",
    "\n",
    "# annual_premium - RobustScaler\n",
    "X_train.loc[:, 'annual_premium_scaled'] = rs.fit_transform(X_train[['annual_premium']])\n",
    "X_test.loc[:, 'annual_premium_scaled'] = rs.transform(X_test[['annual_premium']])\n",
    "pickle.dump(rs, open('../src/parameters/annual_premium_scaler.pkl', 'wb'))\n",
    "\n",
    "# vintage - MinMaxScaler\n",
    "X_train.loc[:, 'vintage_scaled'] = mms.fit_transform(X_train[['vintage']])\n",
    "X_test.loc[:, 'vintage_scaled'] = mms.transform(X_test[['vintage']])\n",
    "pickle.dump(mms, open('../src/parameters/vintage_scaler.pkl', 'wb'))\n",
    "\n",
    "# hi_customer_profitability - RobustScaler\n",
    "X_train.loc[:, 'hi_customer_profitability_scaled'] = rs.fit_transform(X_train[['hi_customer_profitability']])\n",
    "X_test.loc[:, 'hi_customer_profitability_scaled'] = rs.transform(X_test[['hi_customer_profitability']])\n",
    "pickle.dump(rs, open('../src/parameters/hi_customer_profitability_scaler.pkl', 'wb'))"
   ]
  },
  {
   "cell_type": "markdown",
   "metadata": {},
   "source": [
    "## <span style=\"color:orange;\">3.2.</span> Encoding"
   ]
  },
  {
   "cell_type": "code",
   "execution_count": 63,
   "metadata": {},
   "outputs": [],
   "source": [
    "# gender - One Hot Encoding\n",
    "X_train['gender'] = X_train['gender'].map({'male': 1, 'female': 0})\n",
    "X_test['gender'] = X_test['gender'].map({'male': 1, 'female': 0})\n",
    "\n",
    "# region_code - Target Encoding\n",
    "target_encode_region_code = pd.concat([X_train, y_train], axis=1).groupby('region_code')['response'].mean()\n",
    "X_train['region_code'] = X_train['region_code'].map(target_encode_region_code)\n",
    "X_test['region_code'] = X_test['region_code'].map(target_encode_region_code)\n",
    "pickle.dump(target_encode_region_code, open('../src/parameters/region_code_scaler.pkl', 'wb'))\n",
    "\n",
    "# vehicle_age - One Hot Encoding\n",
    "X_train = pd.get_dummies(X_train, columns=['vehicle_age'], prefix='vehicle_age')\n",
    "X_test = pd.get_dummies(X_test, columns=['vehicle_age'], prefix='vehicle_age')\n",
    "\n",
    "# policy_sales_channel - Frequency Encoding\n",
    "frequency_encode_sales_channel = X_train['policy_sales_channel'].value_counts(normalize=True)\n",
    "X_train['policy_sales_channel'] = X_train['policy_sales_channel'].map(frequency_encode_sales_channel)\n",
    "X_test['policy_sales_channel'] = X_test['policy_sales_channel'].map(frequency_encode_sales_channel)\n",
    "pickle.dump(frequency_encode_sales_channel, open('../src/parameters/policy_sales_channel_scaler.pkl', 'wb'))"
   ]
  }
 ],
 "metadata": {
  "kernelspec": {
   "display_name": "DSProducao",
   "language": "python",
   "name": "python3"
  },
  "language_info": {
   "codemirror_mode": {
    "name": "ipython",
    "version": 3
   },
   "file_extension": ".py",
   "mimetype": "text/x-python",
   "name": "python",
   "nbconvert_exporter": "python",
   "pygments_lexer": "ipython3",
   "version": "3.8.19"
  }
 },
 "nbformat": 4,
 "nbformat_minor": 2
}
